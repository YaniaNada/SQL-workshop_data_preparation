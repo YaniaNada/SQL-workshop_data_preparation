{
 "cells": [
  {
   "cell_type": "code",
   "execution_count": 1,
   "metadata": {},
   "outputs": [],
   "source": [
    "import pandas as pd"
   ]
  },
  {
   "cell_type": "markdown",
   "metadata": {},
   "source": [
    "Importing sample_superstore.csv, using open() function to read the file into a buffer and then pass it to pandas.read_csv() to handle decoding/encoding errors:"
   ]
  },
  {
   "cell_type": "code",
   "execution_count": 2,
   "metadata": {},
   "outputs": [],
   "source": [
    "file = open('sample_superstore.csv', encoding='utf-8', errors='replace')\n",
    "df = pd.read_csv(file)"
   ]
  },
  {
   "cell_type": "code",
   "execution_count": 3,
   "metadata": {},
   "outputs": [
    {
     "name": "stdout",
     "output_type": "stream",
     "text": [
      "<class 'pandas.core.frame.DataFrame'>\n",
      "RangeIndex: 9994 entries, 0 to 9993\n",
      "Data columns (total 21 columns):\n",
      " #   Column         Non-Null Count  Dtype  \n",
      "---  ------         --------------  -----  \n",
      " 0   Row ID         9994 non-null   int64  \n",
      " 1   Order ID       9994 non-null   object \n",
      " 2   Order Date     9994 non-null   object \n",
      " 3   Ship Date      9994 non-null   object \n",
      " 4   Ship Mode      9994 non-null   object \n",
      " 5   Customer ID    9994 non-null   object \n",
      " 6   Customer Name  9994 non-null   object \n",
      " 7   Segment        9994 non-null   object \n",
      " 8   Country        9994 non-null   object \n",
      " 9   City           9994 non-null   object \n",
      " 10  State          9994 non-null   object \n",
      " 11  Postal Code    9994 non-null   int64  \n",
      " 12  Region         9994 non-null   object \n",
      " 13  Product ID     9994 non-null   object \n",
      " 14  Category       9994 non-null   object \n",
      " 15  Sub-Category   9994 non-null   object \n",
      " 16  Product Name   9994 non-null   object \n",
      " 17  Sales          9994 non-null   float64\n",
      " 18  Quantity       9994 non-null   int64  \n",
      " 19  Discount       9994 non-null   float64\n",
      " 20  Profit         9994 non-null   float64\n",
      "dtypes: float64(3), int64(3), object(15)\n",
      "memory usage: 1.6+ MB\n"
     ]
    }
   ],
   "source": [
    "df.info()"
   ]
  },
  {
   "cell_type": "markdown",
   "metadata": {},
   "source": [
    "Extracting customers data from sample_superstore.csv:"
   ]
  },
  {
   "cell_type": "code",
   "execution_count": 4,
   "metadata": {},
   "outputs": [
    {
     "name": "stderr",
     "output_type": "stream",
     "text": [
      "C:\\Users\\yania\\AppData\\Local\\Temp\\ipykernel_8128\\4276400500.py:2: SettingWithCopyWarning: \n",
      "A value is trying to be set on a copy of a slice from a DataFrame\n",
      "\n",
      "See the caveats in the documentation: https://pandas.pydata.org/pandas-docs/stable/user_guide/indexing.html#returning-a-view-versus-a-copy\n",
      "  customers_dataset.drop_duplicates(inplace=True)\n"
     ]
    }
   ],
   "source": [
    "customers_dataset = df[['Customer ID', 'Customer Name', 'Segment', 'City', 'State', 'Country', 'Region', 'Postal Code']]\n",
    "customers_dataset.drop_duplicates(inplace=True)"
   ]
  },
  {
   "cell_type": "code",
   "execution_count": null,
   "metadata": {},
   "outputs": [
    {
     "name": "stdout",
     "output_type": "stream",
     "text": [
      "<class 'pandas.core.frame.DataFrame'>\n",
      "Index: 4910 entries, 0 to 9993\n",
      "Data columns (total 8 columns):\n",
      " #   Column         Non-Null Count  Dtype \n",
      "---  ------         --------------  ----- \n",
      " 0   Customer ID    4910 non-null   object\n",
      " 1   Customer Name  4910 non-null   object\n",
      " 2   Segment        4910 non-null   object\n",
      " 3   City           4910 non-null   object\n",
      " 4   State          4910 non-null   object\n",
      " 5   Country        4910 non-null   object\n",
      " 6   Region         4910 non-null   object\n",
      " 7   Postal Code    4910 non-null   int64 \n",
      "dtypes: int64(1), object(7)\n",
      "memory usage: 345.2+ KB\n"
     ]
    }
   ],
   "source": [
    "customers_dataset.info()"
   ]
  },
  {
   "cell_type": "code",
   "execution_count": 6,
   "metadata": {},
   "outputs": [],
   "source": [
    "customers_dataset_unique = customers_dataset.groupby('Customer ID').first()\n",
    "customers_dataset_unique.reset_index(inplace=True)"
   ]
  },
  {
   "cell_type": "code",
   "execution_count": null,
   "metadata": {},
   "outputs": [
    {
     "data": {
      "text/plain": [
       "Customer ID      False\n",
       "Customer Name    False\n",
       "Segment          False\n",
       "City             False\n",
       "State            False\n",
       "Country          False\n",
       "Region           False\n",
       "Postal Code      False\n",
       "dtype: bool"
      ]
     },
     "execution_count": 7,
     "metadata": {},
     "output_type": "execute_result"
    }
   ],
   "source": [
    "customers_dataset_unique.isnull().any()"
   ]
  },
  {
   "cell_type": "code",
   "execution_count": 8,
   "metadata": {},
   "outputs": [],
   "source": [
    "customers_dataset_unique.to_csv('datasets/customers_data.csv')"
   ]
  },
  {
   "cell_type": "markdown",
   "metadata": {},
   "source": [
    "Orders data from sample_superstore.csv:"
   ]
  },
  {
   "cell_type": "code",
   "execution_count": null,
   "metadata": {},
   "outputs": [
    {
     "name": "stdout",
     "output_type": "stream",
     "text": [
      "<class 'pandas.core.frame.DataFrame'>\n",
      "Index: 9986 entries, 0 to 9993\n",
      "Data columns (total 6 columns):\n",
      " #   Column       Non-Null Count  Dtype \n",
      "---  ------       --------------  ----- \n",
      " 0   Order ID     9986 non-null   object\n",
      " 1   Customer ID  9986 non-null   object\n",
      " 2   Product ID   9986 non-null   object\n",
      " 3   Order Date   9986 non-null   object\n",
      " 4   Ship Date    9986 non-null   object\n",
      " 5   Ship Mode    9986 non-null   object\n",
      "dtypes: object(6)\n",
      "memory usage: 546.1+ KB\n"
     ]
    },
    {
     "name": "stderr",
     "output_type": "stream",
     "text": [
      "C:\\Users\\yania\\AppData\\Local\\Temp\\ipykernel_8128\\1333012798.py:2: SettingWithCopyWarning: \n",
      "A value is trying to be set on a copy of a slice from a DataFrame\n",
      "\n",
      "See the caveats in the documentation: https://pandas.pydata.org/pandas-docs/stable/user_guide/indexing.html#returning-a-view-versus-a-copy\n",
      "  orders_dataset.drop_duplicates(inplace=True)\n"
     ]
    }
   ],
   "source": [
    "orders_dataset = df[['Order ID', 'Customer ID', 'Product ID','Order Date', 'Ship Date', 'Ship Mode']]\n",
    "orders_dataset.drop_duplicates(inplace=True)\n",
    "orders_dataset.info()"
   ]
  },
  {
   "cell_type": "code",
   "execution_count": 10,
   "metadata": {},
   "outputs": [
    {
     "name": "stderr",
     "output_type": "stream",
     "text": [
      "C:\\Users\\yania\\AppData\\Local\\Temp\\ipykernel_8128\\1068308795.py:1: SettingWithCopyWarning: \n",
      "A value is trying to be set on a copy of a slice from a DataFrame.\n",
      "Try using .loc[row_indexer,col_indexer] = value instead\n",
      "\n",
      "See the caveats in the documentation: https://pandas.pydata.org/pandas-docs/stable/user_guide/indexing.html#returning-a-view-versus-a-copy\n",
      "  orders_dataset['Order Date']= pd.to_datetime(orders_dataset['Order Date'])\n",
      "C:\\Users\\yania\\AppData\\Local\\Temp\\ipykernel_8128\\1068308795.py:2: SettingWithCopyWarning: \n",
      "A value is trying to be set on a copy of a slice from a DataFrame.\n",
      "Try using .loc[row_indexer,col_indexer] = value instead\n",
      "\n",
      "See the caveats in the documentation: https://pandas.pydata.org/pandas-docs/stable/user_guide/indexing.html#returning-a-view-versus-a-copy\n",
      "  orders_dataset['Ship Date']= pd.to_datetime(orders_dataset['Ship Date'])\n"
     ]
    }
   ],
   "source": [
    "orders_dataset['Order Date']= pd.to_datetime(orders_dataset['Order Date'])\n",
    "orders_dataset['Ship Date']= pd.to_datetime(orders_dataset['Ship Date'])"
   ]
  },
  {
   "cell_type": "code",
   "execution_count": 11,
   "metadata": {},
   "outputs": [
    {
     "name": "stdout",
     "output_type": "stream",
     "text": [
      "<class 'pandas.core.frame.DataFrame'>\n",
      "Index: 9986 entries, 0 to 9993\n",
      "Data columns (total 6 columns):\n",
      " #   Column       Non-Null Count  Dtype         \n",
      "---  ------       --------------  -----         \n",
      " 0   Order ID     9986 non-null   object        \n",
      " 1   Customer ID  9986 non-null   object        \n",
      " 2   Product ID   9986 non-null   object        \n",
      " 3   Order Date   9986 non-null   datetime64[ns]\n",
      " 4   Ship Date    9986 non-null   datetime64[ns]\n",
      " 5   Ship Mode    9986 non-null   object        \n",
      "dtypes: datetime64[ns](2), object(4)\n",
      "memory usage: 546.1+ KB\n"
     ]
    }
   ],
   "source": [
    "orders_dataset.info()"
   ]
  },
  {
   "cell_type": "code",
   "execution_count": 12,
   "metadata": {},
   "outputs": [
    {
     "data": {
      "text/plain": [
       "Order ID       False\n",
       "Customer ID    False\n",
       "Product ID     False\n",
       "Order Date     False\n",
       "Ship Date      False\n",
       "Ship Mode      False\n",
       "dtype: bool"
      ]
     },
     "execution_count": 12,
     "metadata": {},
     "output_type": "execute_result"
    }
   ],
   "source": [
    "orders_dataset.isnull().any()"
   ]
  },
  {
   "cell_type": "code",
   "execution_count": 13,
   "metadata": {},
   "outputs": [],
   "source": [
    "orders_dataset.to_csv('datasets/orders_data.csv')"
   ]
  },
  {
   "cell_type": "markdown",
   "metadata": {},
   "source": [
    "Products data from sample_superstore.csv:"
   ]
  },
  {
   "cell_type": "code",
   "execution_count": 14,
   "metadata": {},
   "outputs": [
    {
     "name": "stderr",
     "output_type": "stream",
     "text": [
      "C:\\Users\\yania\\AppData\\Local\\Temp\\ipykernel_8128\\1056322800.py:2: SettingWithCopyWarning: \n",
      "A value is trying to be set on a copy of a slice from a DataFrame\n",
      "\n",
      "See the caveats in the documentation: https://pandas.pydata.org/pandas-docs/stable/user_guide/indexing.html#returning-a-view-versus-a-copy\n",
      "  products_dataset.drop_duplicates(inplace=True)\n"
     ]
    }
   ],
   "source": [
    "products_dataset = df[['Product ID', 'Category', 'Sub-Category','Product Name']]\n",
    "products_dataset.drop_duplicates(inplace=True)"
   ]
  },
  {
   "cell_type": "code",
   "execution_count": 15,
   "metadata": {},
   "outputs": [],
   "source": [
    "product_dataset_unique = products_dataset.groupby(products_dataset['Product ID']).first()\n",
    "product_dataset_unique.reset_index(inplace=True)"
   ]
  },
  {
   "cell_type": "code",
   "execution_count": 16,
   "metadata": {},
   "outputs": [
    {
     "data": {
      "text/plain": [
       "Product ID      False\n",
       "Category        False\n",
       "Sub-Category    False\n",
       "Product Name    False\n",
       "dtype: bool"
      ]
     },
     "execution_count": 16,
     "metadata": {},
     "output_type": "execute_result"
    }
   ],
   "source": [
    "product_dataset_unique.isnull().any()"
   ]
  },
  {
   "cell_type": "code",
   "execution_count": 17,
   "metadata": {},
   "outputs": [],
   "source": [
    "product_dataset_unique.to_csv('datasets/products_data.csv')"
   ]
  },
  {
   "cell_type": "markdown",
   "metadata": {},
   "source": [
    "Superstore sales summary from sample_superstore.csv:"
   ]
  },
  {
   "cell_type": "code",
   "execution_count": 18,
   "metadata": {},
   "outputs": [
    {
     "name": "stderr",
     "output_type": "stream",
     "text": [
      "C:\\Users\\yania\\AppData\\Local\\Temp\\ipykernel_8128\\2284966594.py:2: SettingWithCopyWarning: \n",
      "A value is trying to be set on a copy of a slice from a DataFrame\n",
      "\n",
      "See the caveats in the documentation: https://pandas.pydata.org/pandas-docs/stable/user_guide/indexing.html#returning-a-view-versus-a-copy\n",
      "  superstore_summary.drop_duplicates(inplace=True)\n"
     ]
    }
   ],
   "source": [
    "superstore_summary = df[['Customer ID', 'Order ID', 'Product ID', 'Sales', 'Quantity', 'Discount', 'Profit']]\n",
    "superstore_summary.drop_duplicates(inplace=True)"
   ]
  },
  {
   "cell_type": "code",
   "execution_count": 19,
   "metadata": {},
   "outputs": [
    {
     "data": {
      "text/plain": [
       "Customer ID    False\n",
       "Order ID       False\n",
       "Product ID     False\n",
       "Sales          False\n",
       "Quantity       False\n",
       "Discount       False\n",
       "Profit         False\n",
       "dtype: bool"
      ]
     },
     "execution_count": 19,
     "metadata": {},
     "output_type": "execute_result"
    }
   ],
   "source": [
    "superstore_summary.isnull().any()"
   ]
  },
  {
   "cell_type": "code",
   "execution_count": 20,
   "metadata": {},
   "outputs": [],
   "source": [
    "superstore_summary.to_csv('datasets/superstore_summary.csv')"
   ]
  }
 ],
 "metadata": {
  "kernelspec": {
   "display_name": "Python 3",
   "language": "python",
   "name": "python3"
  },
  "language_info": {
   "codemirror_mode": {
    "name": "ipython",
    "version": 3
   },
   "file_extension": ".py",
   "mimetype": "text/x-python",
   "name": "python",
   "nbconvert_exporter": "python",
   "pygments_lexer": "ipython3",
   "version": "3.11.9"
  }
 },
 "nbformat": 4,
 "nbformat_minor": 2
}
